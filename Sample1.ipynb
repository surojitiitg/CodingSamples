{
  "cells": [
    {
      "cell_type": "code",
      "execution_count": null,
      "metadata": {
        "id": "y5QZAtzmuqK9",
        "outputId": "c1d4afd4-7a24-421f-afb9-2fe575f9d401"
      },
      "outputs": [
        {
          "name": "stdout",
          "output_type": "stream",
          "text": [
            "The autoreload extension is already loaded. To reload it, use:\n",
            "  %reload_ext autoreload\n"
          ]
        }
      ],
      "source": [
        "%load_ext autoreload\n",
        "%autoreload 2"
      ]
    },
    {
      "cell_type": "markdown",
      "metadata": {
        "id": "wixDXT28uqK-"
      },
      "source": [
        "# Check Data"
      ]
    },
    {
      "cell_type": "code",
      "execution_count": null,
      "metadata": {
        "id": "B_maNRmJuqK_"
      },
      "outputs": [],
      "source": [
        "import torch\n",
        "import matplotlib.pyplot as plt\n",
        "from dataset import MNISTPatch"
      ]
    },
    {
      "cell_type": "code",
      "execution_count": null,
      "metadata": {
        "id": "kfwK4kG7uqK_",
        "outputId": "edd8152d-73a4-478b-c511-217ba0e68783"
      },
      "outputs": [
        {
          "name": "stdout",
          "output_type": "stream",
          "text": [
            "input image torch.Size([10, 16, 7, 7])\n"
          ]
        },
        {
          "data": {
            "image/png": "[encoded data removed]",
            "text/plain": [
              "<Figure size 144x144 with 16 Axes>"
            ]
          },
          "metadata": {
            "needs_background": "light"
          },
          "output_type": "display_data"
        },
        {
          "data": {
            "image/png": "[encoded data removed]",
            "text/plain": [
              "<Figure size 144x144 with 16 Axes>"
            ]
          },
          "metadata": {
            "needs_background": "light"
          },
          "output_type": "display_data"
        }
      ],
      "source": [
        "dataset = MNISTPatch(n_device=16,root='./data', train=True)\n",
        "loader = torch.utils.data.DataLoader(dataset, batch_size=10, shuffle=False)\n",
        "x,y = next(iter(loader))\n",
        "print('input image',x.shape)\n",
        "for bdx in range(2):\n",
        "    fig,axs = plt.subplots(4,4,figsize=(2,2), constrained_layout=True)\n",
        "    for i in range(4):\n",
        "        for j in range(4):\n",
        "            axs[i,j].imshow(x[bdx,i*4+j,:,:],cmap='gray')\n",
        "    for ax in axs.flat:\n",
        "        ax.axis('off')\n",
        "    plt.show()"
      ]
    },
    {
      "cell_type": "code",
      "execution_count": null,
      "metadata": {
        "id": "C6jUGQCVuqLA",
        "outputId": "e8dce14d-a1fe-4993-bbf0-2c9570b147ff"
      },
      "outputs": [
        {
          "name": "stdout",
          "output_type": "stream",
          "text": [
            "input image torch.Size([10, 4, 14, 14])\n"
          ]
        },
        {
          "data": {
            "image/png": "[encoded data removed]",
            "text/plain": [
              "<Figure size 144x144 with 4 Axes>"
            ]
          },
          "metadata": {
            "needs_background": "light"
          },
          "output_type": "display_data"
        },
        {
          "data": {
            "image/png": "[encoded data removed]",
            "text/plain": [
              "<Figure size 144x144 with 4 Axes>"
            ]
          },
          "metadata": {
            "needs_background": "light"
          },
          "output_type": "display_data"
        }
      ],
      "source": [
        "dataset = MNISTPatch(n_device=4,root='./data', train=True)\n",
        "loader = torch.utils.data.DataLoader(dataset, batch_size=10, shuffle=False)\n",
        "x,y = next(iter(loader))\n",
        "print('input image',x.shape)\n",
        "for bdx in range(2):\n",
        "    fig,axs = plt.subplots(2,2,figsize=(2,2), constrained_layout=True)\n",
        "    for i in range(2):\n",
        "        for j in range(2):\n",
        "            axs[i,j].imshow(x[bdx,i*2+j,:,:],cmap='gray')\n",
        "    for ax in axs.flat:\n",
        "        ax.axis('off')\n",
        "    plt.show()"
      ]
    },
    {
      "cell_type": "markdown",
      "metadata": {
        "id": "fx55vExjuqLA"
      },
      "source": [
        "# Model and message passing"
      ]
    },
    {
      "cell_type": "markdown",
      "metadata": {
        "id": "OOvHIjXzuqLB"
      },
      "source": [
        "## Single Unit"
      ]
    },
    {
      "cell_type": "code",
      "execution_count": null,
      "metadata": {
        "id": "ei-dpGGeuqLB"
      },
      "outputs": [],
      "source": [
        "from model import DevicePerceptron, MessageConcat"
      ]
    },
    {
      "cell_type": "code",
      "execution_count": null,
      "metadata": {
        "id": "ORB4jK3DuqLB",
        "outputId": "b6d83b1b-5c2b-48e8-da06-a6e38e0e5fcd"
      },
      "outputs": [
        {
          "data": {
            "text/plain": [
              "4"
            ]
          },
          "execution_count": 153,
          "metadata": {},
          "output_type": "execute_result"
        }
      ],
      "source": [
        "torch.randint(0, 5, (1,)).item()"
      ]
    },
    {
      "cell_type": "code",
      "execution_count": null,
      "metadata": {
        "id": "Fb3x3HuguqLB",
        "outputId": "ce4aa993-2390-457a-81b7-96fa290f8d37"
      },
      "outputs": [
        {
          "name": "stdout",
          "output_type": "stream",
          "text": [
            "weight torch.Size([3, 2, 2])\n",
            "bias torch.Size([3, 2])\n"
          ]
        }
      ],
      "source": [
        "dmlp = DevicePerceptron(n_device=3,d_in=2,d_out=2)\n",
        "ms = MessageConcat(max_num_elements=3)\n",
        "\n",
        "\n",
        "print('weight',dmlp.state_dict()['weight'].shape)\n",
        "print('bias',dmlp.state_dict()['bias'].shape)"
      ]
    },
    {
      "cell_type": "code",
      "execution_count": null,
      "metadata": {
        "id": "uPYt5pe9uqLC",
        "outputId": "2548485a-bc1a-4f80-ccb6-5201a70e7137"
      },
      "outputs": [
        {
          "name": "stdout",
          "output_type": "stream",
          "text": [
            "OrderedDict([('weight', tensor([[[1., 0.],\n",
            "         [0., 1.]],\n",
            "\n",
            "        [[2., 0.],\n",
            "         [0., 2.]],\n",
            "\n",
            "        [[3., 0.],\n",
            "         [0., 3.]]])), ('bias', tensor([[0., 0.],\n",
            "        [0., 0.],\n",
            "        [0., 0.]]))])\n"
          ]
        }
      ],
      "source": [
        "# change weight and bias for sanity check\n",
        "# check bias later\n",
        "with torch.no_grad():\n",
        "    for i in range(3):\n",
        "        dmlp.weight[i,:,:] = torch.eye(2)*(i+1)\n",
        "        dmlp.bias[i,:] = 0\n",
        "print(dmlp.state_dict())"
      ]
    },
    {
      "cell_type": "code",
      "execution_count": null,
      "metadata": {
        "id": "2ppkPBk5uqLC",
        "outputId": "d2095d48-62f7-4620-ca62-05e36692f8f2"
      },
      "outputs": [
        {
          "name": "stdout",
          "output_type": "stream",
          "text": [
            "tensor([[[  1.,   1.],\n",
            "         [ 10.,  10.],\n",
            "         [100., 100.]]])\n",
            "\n",
            " each server output\n",
            "tensor([[[  1.,   1.],\n",
            "         [ 20.,  20.],\n",
            "         [300., 300.]]], grad_fn=<ReluBackward0>)\n",
            "\n",
            " sending message\n",
            "data at server 0 tensor([[  1.,   1.,  20.,  20., 300., 300.]], grad_fn=<SliceBackward0>)\n",
            "data at server 1 tensor([[20., 20.,  0.,  0.,  0.,  0.]], grad_fn=<SliceBackward0>)\n",
            "data at server 2 tensor([[300., 300.,  20.,  20.,   0.,   0.]], grad_fn=<SliceBackward0>)\n"
          ]
        }
      ],
      "source": [
        "# One Sample\n",
        "data = torch.Tensor([[1,1],[10,10],[100,100]]).unsqueeze(0)\n",
        "print(data)\n",
        "\n",
        "print('\\n each server output')\n",
        "data = dmlp(data)\n",
        "print(data)\n",
        "\n",
        "print('\\n sending message')\n",
        "edge_index = torch.tensor([[0, 0],\n",
        "                           [1, 0],\n",
        "                           [2, 0],\n",
        "                           [1, 1],\n",
        "                           [2, 2],\n",
        "                           [1, 2]], dtype=torch.long).T\n",
        "\n",
        "data = ms(data,edge_index)\n",
        "for i in range(3):\n",
        "    print(f'data at server {i}',data[:,i,:])"
      ]
    },
    {
      "cell_type": "code",
      "execution_count": null,
      "metadata": {
        "id": "lKLze9O3uqLD",
        "outputId": "e1eb740e-8912-4fd7-a495-4a27c95ae7e4"
      },
      "outputs": [
        {
          "name": "stdout",
          "output_type": "stream",
          "text": [
            "tensor([[[  1.,   1.],\n",
            "         [ 10.,  10.],\n",
            "         [100., 100.]],\n",
            "\n",
            "        [[  3.,   3.],\n",
            "         [ 30.,  30.],\n",
            "         [ 60.,  60.]]])\n",
            "\n",
            " each server output\n",
            "tensor([[[  1.,   1.],\n",
            "         [ 20.,  20.],\n",
            "         [300., 300.]],\n",
            "\n",
            "        [[  3.,   3.],\n",
            "         [ 60.,  60.],\n",
            "         [180., 180.]]], grad_fn=<CloneBackward0>)\n",
            "\n",
            " sending message\n",
            "data at server 0 tensor([[  1.,   1.,  20.,  20., 300., 300.],\n",
            "        [  3.,   3.,  60.,  60., 180., 180.]], grad_fn=<SliceBackward0>)\n",
            "data at server 1 tensor([[20., 20.,  0.,  0.,  0.,  0.],\n",
            "        [60., 60.,  0.,  0.,  0.,  0.]], grad_fn=<SliceBackward0>)\n",
            "data at server 2 tensor([[300., 300.,  20.,  20.,   0.,   0.],\n",
            "        [180., 180.,  60.,  60.,   0.,   0.]], grad_fn=<SliceBackward0>)\n"
          ]
        }
      ],
      "source": [
        "# Batch\n",
        "bs = 2\n",
        "data = torch.Tensor([[[1,1],[10,10],[100,100]],[[3,3],[30,30],[60,60]]])\n",
        "print(data)\n",
        "\n",
        "print('\\n each server output')\n",
        "data = dmlp(data).contiguous()\n",
        "print(data)\n",
        "\n",
        "print('\\n sending message')\n",
        "edge_index = torch.tensor([[0, 0],\n",
        "                           [1, 0],\n",
        "                           [2, 0],\n",
        "                           [1, 1],\n",
        "                           [2, 2],\n",
        "                           [1, 2]], dtype=torch.long).T\n",
        "edge_index_batch = []\n",
        "for i in range(bs):\n",
        "    edge_index_batch.append(edge_index.clone()+3*i)\n",
        "edge_index = torch.cat(edge_index_batch,dim=1)\n",
        "data = ms(data,edge_index)\n",
        "for i in range(3):\n",
        "    print(f'data at server {i}',data[:,i,:])"
      ]
    },
    {
      "cell_type": "markdown",
      "metadata": {
        "id": "ZZ1Cig9FuqLD"
      },
      "source": [
        "## Full Model"
      ]
    },
    {
      "cell_type": "code",
      "execution_count": null,
      "metadata": {
        "id": "ahDTIsMquqLD"
      },
      "outputs": [],
      "source": [
        "from model import MVFL"
      ]
    },
    {
      "cell_type": "code",
      "execution_count": null,
      "metadata": {
        "id": "5a96LMCGuqLD"
      },
      "outputs": [],
      "source": [
        "model = MVFL(16,repeat=1)"
      ]
    },
    {
      "cell_type": "code",
      "execution_count": null,
      "metadata": {
        "id": "Plc3QZdbuqLD"
      },
      "outputs": [],
      "source": [
        "def get_batch_edge_index_MVFL(drop_mode, drop_rate, n_device, bs, return_device_valid=False):\n",
        "    # TODO: find a better way to avoid using for loop\n",
        "    # get edge_index for one sample\n",
        "    edge_index = []\n",
        "    n_receiver, n_sender = n_device, n_device\n",
        "\n",
        "    if drop_mode == 'comm':\n",
        "        device_valid = list(range(n_device))\n",
        "        for i in range(n_sender):\n",
        "            for j in range(n_receiver):\n",
        "                # i - sender\n",
        "                # j - receiver\n",
        "                if i == j:\n",
        "                    edge_index.append([j, i])\n",
        "                else:\n",
        "                    if torch.rand(1) > drop_rate:\n",
        "                        edge_index.append([j, i])\n",
        "    elif drop_mode == 'device':\n",
        "        device_valid = []\n",
        "        for i in range(n_sender):\n",
        "            rand_check = torch.rand(1)\n",
        "            if rand_check > drop_rate:\n",
        "                device_valid.append(i)\n",
        "            for j in range(n_receiver):\n",
        "                # i - sender\n",
        "                # j - receiver\n",
        "                if i == j:\n",
        "                    edge_index.append([j, i])\n",
        "                else:\n",
        "                    if rand_check > drop_rate:\n",
        "                        edge_index.append([j, i])\n",
        "    else:\n",
        "        raise ValueError('drop_mode not recognized')\n",
        "    edge_index = torch.Tensor(edge_index).T\n",
        "    # repeat for  all samples in the batch\n",
        "    edge_index_batch = []\n",
        "    for i in range(bs):\n",
        "        edge_index_batch.append(edge_index.clone() + n_device*i)\n",
        "    edge_index = torch.cat(edge_index_batch, dim=1).long()\n",
        "    if return_device_valid:\n",
        "        return edge_index, device_valid\n",
        "    else:\n",
        "        return edge_index"
      ]
    },
    {
      "cell_type": "code",
      "execution_count": null,
      "metadata": {
        "id": "CuiMVmZ3uqLE",
        "outputId": "4572e2e3-89e4-4b26-dc24-e3d312bf7882"
      },
      "outputs": [
        {
          "name": "stdout",
          "output_type": "stream",
          "text": [
            "torch.Size([2, 80])\n",
            "torch.Size([2, 1280])\n"
          ]
        }
      ],
      "source": [
        "print(get_batch_edge_index(drop_mode='comm',drop_rate=1,n_device=16,bs=5).shape)\n",
        "print(get_batch_edge_index(drop_mode='comm',drop_rate=0,n_device=16,bs=5).shape)"
      ]
    },
    {
      "cell_type": "code",
      "execution_count": null,
      "metadata": {
        "id": "j7VN8JETuqLE",
        "outputId": "ec4b9907-ccd1-49a1-ee5e-d0649a25292e"
      },
      "outputs": [
        {
          "name": "stdout",
          "output_type": "stream",
          "text": [
            "output torch.Size([15, 16, 10])\n",
            "pred torch.Size([15, 16])\n"
          ]
        }
      ],
      "source": [
        "data = torch.randn(15,16,7,7)\n",
        "edge_index = torch.tensor([[0, 0],\n",
        "                           [1, 0],\n",
        "                           [2, 0],\n",
        "                           [1, 1],\n",
        "                           [2, 2],\n",
        "                           [1, 2]], dtype=torch.long).T\n",
        "edge_index,device_valid = get_batch_edge_index(drop_mode='comm',drop_rate=0.5,n_device=16,bs=len(data),return_device_valid=True)\n",
        "output = model(data,edge_index)\n",
        "output = output[:,device_valid,:]\n",
        "print('output',output.shape)\n",
        "pred = output.argmax(dim=-1)\n",
        "print('pred',pred.shape)\n"
      ]
    },
    {
      "cell_type": "code",
      "execution_count": null,
      "metadata": {
        "id": "r0TZdE1TuqLE",
        "outputId": "ba0b8f2c-f4be-43a5-c28a-e348df582b68"
      },
      "outputs": [
        {
          "name": "stdout",
          "output_type": "stream",
          "text": [
            "output torch.Size([15, 8, 10])\n",
            "pred torch.Size([15, 8])\n"
          ]
        }
      ],
      "source": [
        "data = torch.randn(15,16,7,7)\n",
        "edge_index = torch.tensor([[0, 0],\n",
        "                           [1, 0],\n",
        "                           [2, 0],\n",
        "                           [1, 1],\n",
        "                           [2, 2],\n",
        "                           [1, 2]], dtype=torch.long).T\n",
        "edge_index,device_valid = get_batch_edge_index(drop_mode='device',drop_rate=0.5,n_device=16,bs=len(data),return_device_valid=True)\n",
        "output = model(data,edge_index)\n",
        "output = output[:,device_valid,:]\n",
        "print('output',output.shape)\n",
        "pred = output.argmax(dim=-1)\n",
        "print('pred',pred.shape)"
      ]
    },
    {
      "cell_type": "code",
      "execution_count": null,
      "metadata": {
        "id": "-a39cNVDuqLE"
      },
      "outputs": [],
      "source": [
        "def get_batch_edge_index_VFL(drop_mode, drop_rate, n_device, bs):\n",
        "    # TODO: find a better way to avoid using for loop\n",
        "    # get edge_index for one sample\n",
        "    edge_index = []\n",
        "    n_sender = n_device\n",
        "\n",
        "    server_idx = torch.randint(0, n_device, (1,)).item()\n",
        "    for i in range(n_sender):\n",
        "        # i - sender\n",
        "        # j - receiver\n",
        "        if i == j:\n",
        "            edge_index.append([server_idx, i])\n",
        "        else:\n",
        "            if torch.rand(1) > drop_rate:\n",
        "                edge_index.append([server_idx, i])\n",
        "\n",
        "\n",
        "    edge_index = torch.Tensor(edge_index).T\n",
        "    # repeat for  all samples in the batch\n",
        "    edge_index_batch = []\n",
        "    for i in range(bs):\n",
        "        edge_index_batch.append(edge_index.clone() + n_device*i)\n",
        "    edge_index = torch.cat(edge_index_batch, dim=1).long()\n",
        "\n",
        "    return edge_index\n"
      ]
    },
    {
      "cell_type": "code",
      "execution_count": null,
      "metadata": {
        "id": "w2FttE72uqLE",
        "outputId": "7805b86c-7daf-4484-8710-3a98f25eeaa2"
      },
      "outputs": [
        {
          "name": "stdout",
          "output_type": "stream",
          "text": [
            "torch.Size([2, 5])\n",
            "torch.Size([2, 80])\n"
          ]
        }
      ],
      "source": [
        "print(get_batch_edge_index_VFL(drop_mode='comm',drop_rate=1,n_device=16,bs=5).shape)\n",
        "print(get_batch_edge_index_VFL(drop_mode='comm',drop_rate=0,n_device=16,bs=5).shape)"
      ]
    }
  ],
  "metadata": {
    "kernelspec": {
      "display_name": "Python 3",
      "language": "python",
      "name": "python3"
    },
    "language_info": {
      "codemirror_mode": {
        "name": "ipython",
        "version": 3
      },
      "file_extension": ".py",
      "mimetype": "text/x-python",
      "name": "python",
      "nbconvert_exporter": "python",
      "pygments_lexer": "ipython3",
      "version": "3.8.12"
    },
    "orig_nbformat": 4,
    "colab": {
      "provenance": []
    }
  },
  "nbformat": 4,
  "nbformat_minor": 0
}