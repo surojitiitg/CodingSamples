{
  "cells": [
    {
      "cell_type": "code",
      "execution_count": null,
      "metadata": {
        "id": "cgD8P7ad8-Kg"
      },
      "outputs": [],
      "source": [
        "import torch\n",
        "import torch.nn as nn\n",
        "import torch.nn.functional as F\n",
        "import torch.optim as optim\n",
        "from torchvision import datasets, transforms\n",
        "import matplotlib.pyplot as plt\n",
        "import numpy as np\n"
      ]
    },
    {
      "cell_type": "code",
      "execution_count": null,
      "metadata": {
        "id": "JHifYbOYHGHB"
      },
      "outputs": [],
      "source": [
        "class Patch(object):\n",
        "    \"\"\"\n",
        "    Creates patches from images\n",
        "    \"\"\"\n",
        "\n",
        "    def __init__(self, patch_size=14):\n",
        "      self.patch_size = patch_size\n",
        "\n",
        "    def __call__(self, image):\n",
        "      #print(\"hello\")\n",
        "      #print(image)\n",
        "      #print(image.shape)\n",
        "      patched_image = image.unfold(1, self.patch_size, self.patch_size).unfold(2, self.patch_size, self.patch_size)\n",
        "      # patched_image = rearrange(image.unsqueeze(0), 'b c (h h1) (w w1) -> (b h1 w1) c h w', h1=2,w1=2)\n",
        "      # patched_image = rearrange(F.unfold(image, patch_size, patch_size), '(h w) c -> c h w', h=patch_size)\n",
        "      v = torch.flatten(patched_image)\n",
        "      #print(v)\n",
        "      patched_image = torch.reshape(v,(4,14,14))\n",
        "      #print(patched_image.shape)\n",
        "      #print(patched_image)\n",
        "\n",
        "      return patched_image"
      ]
    },
    {
      "cell_type": "code",
      "execution_count": null,
      "metadata": {
        "id": "SSG9fFuu9aYf",
        "outputId": "203cac25-ff6d-4f37-e93d-1f0a821bec79"
      },
      "outputs": [
        {
          "name": "stderr",
          "output_type": "stream",
          "text": [
            "\r",
            "  0%|          | 0/9912422 [00:00<?, ?it/s]"
          ]
        },
        {
          "name": "stdout",
          "output_type": "stream",
          "text": [
            "Downloading http://yann.lecun.com/exdb/mnist/train-images-idx3-ubyte.gz\n",
            "Downloading http://yann.lecun.com/exdb/mnist/train-images-idx3-ubyte.gz to ./data/MNIST/raw/train-images-idx3-ubyte.gz\n"
          ]
        },
        {
          "name": "stderr",
          "output_type": "stream",
          "text": [
            "100%|██████████| 9912422/9912422 [00:00<00:00, 12034884.28it/s]\n"
          ]
        },
        {
          "name": "stdout",
          "output_type": "stream",
          "text": [
            "Extracting ./data/MNIST/raw/train-images-idx3-ubyte.gz to ./data/MNIST/raw\n"
          ]
        },
        {
          "name": "stderr",
          "output_type": "stream",
          "text": [
            "100%|██████████| 28881/28881 [00:00<00:00, 33490653.53it/s]"
          ]
        },
        {
          "name": "stdout",
          "output_type": "stream",
          "text": [
            "\n",
            "Downloading http://yann.lecun.com/exdb/mnist/train-labels-idx1-ubyte.gz\n",
            "Downloading http://yann.lecun.com/exdb/mnist/train-labels-idx1-ubyte.gz to ./data/MNIST/raw/train-labels-idx1-ubyte.gz\n",
            "Extracting ./data/MNIST/raw/train-labels-idx1-ubyte.gz to ./data/MNIST/raw\n",
            "\n",
            "Downloading http://yann.lecun.com/exdb/mnist/t10k-images-idx3-ubyte.gz\n",
            "Downloading http://yann.lecun.com/exdb/mnist/t10k-images-idx3-ubyte.gz to ./data/MNIST/raw/t10k-images-idx3-ubyte.gz\n"
          ]
        },
        {
          "name": "stderr",
          "output_type": "stream",
          "text": [
            "\n",
            "100%|██████████| 1648877/1648877 [00:00<00:00, 9778539.19it/s]\n",
            "100%|██████████| 4542/4542 [00:00<00:00, 12211877.42it/s]"
          ]
        },
        {
          "name": "stdout",
          "output_type": "stream",
          "text": [
            "Extracting ./data/MNIST/raw/t10k-images-idx3-ubyte.gz to ./data/MNIST/raw\n",
            "\n",
            "Downloading http://yann.lecun.com/exdb/mnist/t10k-labels-idx1-ubyte.gz\n",
            "Downloading http://yann.lecun.com/exdb/mnist/t10k-labels-idx1-ubyte.gz to ./data/MNIST/raw/t10k-labels-idx1-ubyte.gz\n",
            "Extracting ./data/MNIST/raw/t10k-labels-idx1-ubyte.gz to ./data/MNIST/raw\n",
            "\n"
          ]
        },
        {
          "name": "stderr",
          "output_type": "stream",
          "text": [
            "\n"
          ]
        }
      ],
      "source": [
        "#transform = transforms.ToTensor()\n",
        "\n",
        "transform = transforms.Compose([\n",
        "     transforms.ToTensor(),\n",
        "     Patch(),\n",
        " ])\n",
        "\n",
        "mnist_data = datasets.MNIST(root='./data', train=True, download=True, transform=transform)\n",
        "\n"
      ]
    },
    {
      "cell_type": "code",
      "execution_count": null,
      "metadata": {
        "id": "_KKjcRZu840K"
      },
      "outputs": [],
      "source": [
        "data_loader = torch.utils.data.DataLoader(dataset=mnist_data,\n",
        "                                          batch_size=64,\n",
        "                                          shuffle=True)"
      ]
    },
    {
      "cell_type": "code",
      "execution_count": null,
      "metadata": {
        "colab": {
          "base_uri": "https://localhost:8080/"
        },
        "id": "_QIZnxTYBXkR",
        "outputId": "184f50ef-060f-4afe-fe3f-d50cfc8440d8"
      },
      "outputs": [
        {
          "name": "stdout",
          "output_type": "stream",
          "text": [
            "torch.Size([64, 4, 14, 14])\n",
            "tensor(0.) tensor(1.)\n",
            "<class 'int'>\n"
          ]
        }
      ],
      "source": [
        "dataiter = iter(data_loader)\n",
        "images_ref, labels_ref = next(dataiter)\n",
        "print(images_ref.shape)\n",
        "print(torch.min(images_ref), torch.max(images_ref))\n",
        "print(type(labels_ref[0].item()))"
      ]
    },
    {
      "cell_type": "code",
      "execution_count": null,
      "metadata": {
        "id": "hWBd1WpdB_LJ"
      },
      "outputs": [],
      "source": [
        "# repeatedly reduce the size\n",
        "class Autoencoder_Linear(nn.Module):\n",
        "    def __init__(self):\n",
        "        super().__init__()\n",
        "        self.encoder = nn.Sequential(\n",
        "            nn.Linear(14 * 14, 16), # (N, 784) -> (N, 128)\n",
        "            nn.ReLU(),\n",
        "            nn.Linear(16, 1)\n",
        "        )\n",
        "\n",
        "        self.decoder = nn.Sequential(\n",
        "            nn.Linear(1, 16),\n",
        "            nn.ReLU(),\n",
        "            nn.Linear(16, 14 * 14)\n",
        "            #nn.Sigmoid()\n",
        "        )\n",
        "\n",
        "    def forward(self, x):\n",
        "        encoded = self.encoder(x)\n",
        "        decoded = self.decoder(encoded)\n",
        "        return decoded,encoded\n",
        "\n"
      ]
    },
    {
      "cell_type": "code",
      "execution_count": null,
      "metadata": {
        "id": "CMpbdWLQCUzS"
      },
      "outputs": [],
      "source": [
        "model = Autoencoder_Linear()\n",
        "criterion = nn.MSELoss()\n",
        "optimizer = torch.optim.Adam(model.parameters(),\n",
        "                             lr=1e-3,\n",
        "                             weight_decay=1e-5)\n",
        "lat_rep_dim = 1 #Change based on number of latent rep"
      ]
    },
    {
      "cell_type": "code",
      "execution_count": null,
      "metadata": {
        "colab": {
          "base_uri": "https://localhost:8080/"
        },
        "id": "rb17HK5gCfjt",
        "outputId": "17d1a2a7-8f84-4bcd-cd74-084962f807ea"
      },
      "outputs": [
        {
          "name": "stdout",
          "output_type": "stream",
          "text": [
            "Epoch:1, Loss:0.0619\n",
            "Epoch:2, Loss:0.0605\n",
            "Epoch:3, Loss:0.0625\n",
            "Epoch:4, Loss:0.0594\n",
            "Epoch:5, Loss:0.0626\n",
            "Epoch:6, Loss:0.0605\n",
            "Epoch:7, Loss:0.0582\n",
            "Epoch:8, Loss:0.0579\n",
            "Epoch:9, Loss:0.0549\n",
            "Epoch:10, Loss:0.0546\n"
          ]
        }
      ],
      "source": [
        "num_epochs = 10\n",
        "outputs = []\n",
        "\n",
        "for epoch in range(num_epochs):\n",
        "    for (img, _) in data_loader:\n",
        "        model.train()\n",
        "        img = img.reshape(-1, 14*14)\n",
        "        recon,encoded = model(img)\n",
        "        loss = criterion(recon, img)\n",
        "\n",
        "        optimizer.zero_grad()\n",
        "        loss.backward()\n",
        "        optimizer.step()\n",
        "    print(f'Epoch:{epoch+1}, Loss:{loss.item():.4f}')\n",
        "    outputs.append((epoch, img, recon))\n"
      ]
    },
    {
      "cell_type": "code",
      "execution_count": null,
      "metadata": {
        "id": "2V-8c53Yd-ap"
      },
      "outputs": [],
      "source": [
        "class DepthWise(nn.Module):\n",
        "    def __init__(self):\n",
        "        super().__init__()\n",
        "        self.LatEncoder = nn.Sequential(\n",
        "            nn.Linear(4, 4),\n",
        "            nn.ReLU(),\n",
        "            nn.Linear(4, 4),\n",
        "            nn.ReLU(),\n",
        "            nn.Linear(4, 4),\n",
        "            nn.ReLU(),\n",
        "            nn.Linear(4, 4),\n",
        "        )\n",
        "    def forward(self, x):\n",
        "        encoded = self.LatEncoder(x)\n",
        "        return encoded"
      ]
    },
    {
      "cell_type": "code",
      "execution_count": null,
      "metadata": {
        "id": "9OyisfiUJ8bL"
      },
      "outputs": [],
      "source": [
        "class ResidualDepthWise(nn.Module):\n",
        "    def __init__(self):\n",
        "        super().__init__()\n",
        "        self.layers = nn.ModuleList([nn.Linear(4, 4) for _ in range(4)])\n",
        "        for layer in self.layers:\n",
        "            layer.weight.data[:] = 0\n",
        "            layer.bias.data[:] = 0\n",
        "\n",
        "    def forward(self, x):\n",
        "        for layer in self.layers:\n",
        "            x = torch.relu(layer(x)) + x\n",
        "        return x"
      ]
    },
    {
      "cell_type": "code",
      "execution_count": null,
      "metadata": {
        "id": "QJWDnv5GJ8bL"
      },
      "outputs": [],
      "source": [
        "# Init model and optimizer\n",
        "criterion = nn.MSELoss()\n",
        "depth_wise_model = ResidualDepthWise()\n",
        "optimizer = torch.optim.Adam(depth_wise_model.parameters(),\n",
        "                             lr=1e-5)"
      ]
    },
    {
      "cell_type": "code",
      "execution_count": null,
      "metadata": {
        "colab": {
          "base_uri": "https://localhost:8080/"
        },
        "outputId": "17d1a2a7-8f84-4bcd-cd74-084962f807ea",
        "id": "kjTavK3DJ8bN"
      },
      "outputs": [
        {
          "name": "stdout",
          "output_type": "stream",
          "text": [
            "Iteration:100, Epoch:1, Loss:0.0569\n",
            "Iteration:200, Epoch:1, Loss:0.0520\n",
            "Iteration:300, Epoch:1, Loss:0.0528\n",
            "Iteration:400, Epoch:1, Loss:0.0545\n",
            "Iteration:500, Epoch:1, Loss:0.0561\n",
            "Iteration:600, Epoch:1, Loss:0.0519\n",
            "Iteration:700, Epoch:1, Loss:0.0544\n",
            "Iteration:800, Epoch:1, Loss:0.0544\n",
            "Iteration:900, Epoch:1, Loss:0.0537\n",
            "Iteration:1000, Epoch:2, Loss:0.0570\n",
            "Iteration:1100, Epoch:2, Loss:0.0539\n",
            "Iteration:1200, Epoch:2, Loss:0.0544\n",
            "Iteration:1300, Epoch:2, Loss:0.0532\n",
            "Iteration:1400, Epoch:2, Loss:0.0563\n",
            "Iteration:1500, Epoch:2, Loss:0.0568\n",
            "Iteration:1600, Epoch:2, Loss:0.0554\n",
            "Iteration:1700, Epoch:2, Loss:0.0582\n",
            "Iteration:1800, Epoch:2, Loss:0.0553\n",
            "Iteration:1900, Epoch:3, Loss:0.0528\n",
            "Iteration:2000, Epoch:3, Loss:0.0555\n",
            "Iteration:2100, Epoch:3, Loss:0.0560\n",
            "Iteration:2200, Epoch:3, Loss:0.0524\n",
            "Iteration:2300, Epoch:3, Loss:0.0562\n",
            "Iteration:2400, Epoch:3, Loss:0.0553\n",
            "Iteration:2500, Epoch:3, Loss:0.0544\n",
            "Iteration:2600, Epoch:3, Loss:0.0539\n",
            "Iteration:2700, Epoch:3, Loss:0.0517\n",
            "Iteration:2800, Epoch:3, Loss:0.0547\n",
            "Iteration:2900, Epoch:4, Loss:0.0564\n",
            "Iteration:3000, Epoch:4, Loss:0.0539\n",
            "Iteration:3100, Epoch:4, Loss:0.0562\n",
            "Iteration:3200, Epoch:4, Loss:0.0543\n",
            "Iteration:3300, Epoch:4, Loss:0.0526\n",
            "Iteration:3400, Epoch:4, Loss:0.0540\n",
            "Iteration:3500, Epoch:4, Loss:0.0516\n",
            "Iteration:3600, Epoch:4, Loss:0.0534\n",
            "Iteration:3700, Epoch:4, Loss:0.0536\n",
            "Iteration:3800, Epoch:5, Loss:0.0532\n",
            "Iteration:3900, Epoch:5, Loss:0.0554\n",
            "Iteration:4000, Epoch:5, Loss:0.0546\n",
            "Iteration:4100, Epoch:5, Loss:0.0549\n",
            "Iteration:4200, Epoch:5, Loss:0.0523\n",
            "Iteration:4300, Epoch:5, Loss:0.0570\n",
            "Iteration:4400, Epoch:5, Loss:0.0520\n",
            "Iteration:4500, Epoch:5, Loss:0.0528\n",
            "Iteration:4600, Epoch:5, Loss:0.0525\n",
            "Iteration:4700, Epoch:6, Loss:0.0569\n",
            "Iteration:4800, Epoch:6, Loss:0.0568\n",
            "Iteration:4900, Epoch:6, Loss:0.0528\n",
            "Iteration:5000, Epoch:6, Loss:0.0566\n",
            "Iteration:5100, Epoch:6, Loss:0.0570\n",
            "Iteration:5200, Epoch:6, Loss:0.0577\n",
            "Iteration:5300, Epoch:6, Loss:0.0606\n",
            "Iteration:5400, Epoch:6, Loss:0.0558\n",
            "Iteration:5500, Epoch:6, Loss:0.0553\n",
            "Iteration:5600, Epoch:6, Loss:0.0547\n",
            "Iteration:5700, Epoch:7, Loss:0.0498\n",
            "Iteration:5800, Epoch:7, Loss:0.0569\n",
            "Iteration:5900, Epoch:7, Loss:0.0511\n",
            "Iteration:6000, Epoch:7, Loss:0.0530\n",
            "Iteration:6100, Epoch:7, Loss:0.0552\n",
            "Iteration:6200, Epoch:7, Loss:0.0579\n",
            "Iteration:6300, Epoch:7, Loss:0.0553\n",
            "Iteration:6400, Epoch:7, Loss:0.0603\n",
            "Iteration:6500, Epoch:7, Loss:0.0552\n",
            "Iteration:6600, Epoch:8, Loss:0.0522\n",
            "Iteration:6700, Epoch:8, Loss:0.0564\n",
            "Iteration:6800, Epoch:8, Loss:0.0554\n",
            "Iteration:6900, Epoch:8, Loss:0.0510\n",
            "Iteration:7000, Epoch:8, Loss:0.0568\n",
            "Iteration:7100, Epoch:8, Loss:0.0528\n",
            "Iteration:7200, Epoch:8, Loss:0.0528\n",
            "Iteration:7300, Epoch:8, Loss:0.0569\n",
            "Iteration:7400, Epoch:8, Loss:0.0519\n",
            "Iteration:7500, Epoch:8, Loss:0.0536\n"
          ]
        }
      ],
      "source": [
        "num_epochs = 10\n",
        "depth_wise_model.train()\n",
        "it = 0\n",
        "for epoch in range(num_epochs):\n",
        "    for (img, _) in data_loader:\n",
        "        # img (N, 4, 14, 14)\n",
        "        img = img.reshape(*img.shape[:2], 14*14)\n",
        "        # img (N, 4, 14*14)\n",
        "        with torch.no_grad():\n",
        "            encoded = model.encoder(img)\n",
        "        # Modify this... concatenate instead and then chunk\n",
        "        encoded_new = depth_wise_model(encoded.squeeze(-1))\n",
        "        recon = model.decoder(encoded_new.unsqueeze(-1))\n",
        "\n",
        "        optimizer.zero_grad()\n",
        "        loss = criterion(recon, img)\n",
        "        loss.backward()\n",
        "        optimizer.step()\n",
        "\n",
        "        it += 1\n",
        "        if (it + 1) % 100 == 0:\n",
        "          print(f'Iteration:{it + 1}, Epoch:{epoch+1}, Loss:{loss.item():.4f}')"
      ]
    },
    {
      "cell_type": "code",
      "execution_count": null,
      "metadata": {
        "id": "0x-GXPv8J8bO",
        "outputId": "6c70f8a6-df1c-4147-a4bd-190e940aae40"
      },
      "outputs": [
        {
          "name": "stderr",
          "output_type": "stream",
          "text": [
            "Clipping input data to the valid range for imshow with RGB data ([0..1] for floats or [0..255] for integers).\n"
          ]
        },
        {
          "data": {
            "text/plain": [
              "<matplotlib.image.AxesImage at 0x7ff2d0c973d0>"
            ]
          },
          "execution_count": 75,
          "metadata": {},
          "output_type": "execute_result"
        },
        {
          "data": {
            "image/png": "[encoded data removed]",
            "text/plain": [
              "<Figure size 432x288 with 1 Axes>"
            ]
          },
          "metadata": {
            "needs_background": "light"
          },
          "output_type": "display_data"
        }
      ],
      "source": [
        "from torchvision.utils import make_grid\n",
        "def show(imgs):\n",
        "    if not isinstance(imgs, list):\n",
        "        imgs = [imgs]\n",
        "    fig, axs = plt.subplots(ncols=len(imgs), squeeze=False)\n",
        "    for i, img in enumerate(imgs):\n",
        "        img = img.detach()\n",
        "        axs[0, i].imshow(np.asarray(img))\n",
        "        axs[0, i].set(xticklabels=[], yticklabels=[], xticks=[], yticks=[])\n",
        "\n",
        "batch, _ = next(iter(data_loader))\n",
        "\n",
        "ae_recon, _ = model(batch.reshape(*batch.shape[:2], 14*14))\n",
        "ae_recon = ae_recon.reshape(*batch.shape[:2], 14, 14)\n",
        "\n",
        "encoded = model.encoder(batch.reshape(*batch.shape[:2], 14*14))\n",
        "encoded_new = depth_wise_model(encoded.squeeze(-1))\n",
        "recon = model.decoder(encoded_new.unsqueeze(-1))\n",
        "recon = recon.reshape(*batch.shape[:2], 14, 14)\n",
        "\n",
        "grid = make_grid(batch[0].unsqueeze(1), padding=0, nrow=2)\n",
        "grid_ae_recon = make_grid(ae_recon[0].unsqueeze(1), padding=0, nrow=2)\n",
        "grid_recon = make_grid(recon[0].unsqueeze(1), padding=0, nrow=2)\n",
        "plt.imshow(torch.cat((grid.permute(1,2,0), grid_recon.permute(1,2,0), grid_ae_recon.permute(1,2,0)), dim=0))"
      ]
    }
  ],
  "metadata": {
    "colab": {
      "provenance": []
    },
    "kernelspec": {
      "display_name": "Python 3",
      "language": "python",
      "name": "python3"
    },
    "language_info": {
      "codemirror_mode": {
        "name": "ipython",
        "version": 3
      },
      "file_extension": ".py",
      "mimetype": "text/x-python",
      "name": "python",
      "nbconvert_exporter": "python",
      "pygments_lexer": "ipython3",
      "version": "3.8.8"
    }
  },
  "nbformat": 4,
  "nbformat_minor": 0
}